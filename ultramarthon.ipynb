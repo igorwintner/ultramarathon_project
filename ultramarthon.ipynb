{
 "cells": [
  {
   "cell_type": "markdown",
   "metadata": {},
   "source": [
    "# Link to the dataset\n",
    "🔗 https://www.kaggle.com/datasets/aiaiaidavid/the-big-dataset-of-ultra-marathon-running/data"
   ]
  },
  {
   "cell_type": "markdown",
   "metadata": {},
   "source": [
    "# Import libraries"
   ]
  },
  {
   "cell_type": "code",
   "execution_count": 1,
   "metadata": {},
   "outputs": [],
   "source": [
    "import pandas as pd\n",
    "import seaborn as sns\n",
    "import matplotlib.pyplot as plt"
   ]
  },
  {
   "cell_type": "markdown",
   "metadata": {},
   "source": [
    "# Create dataframe"
   ]
  },
  {
   "cell_type": "code",
   "execution_count": null,
   "metadata": {},
   "outputs": [],
   "source": [
    "df = pd.read_csv('ultra_marathon_data.csv')"
   ]
  },
  {
   "cell_type": "markdown",
   "metadata": {},
   "source": [
    "# Discover the data, that has been imported "
   ]
  },
  {
   "cell_type": "code",
   "execution_count": 6,
   "metadata": {},
   "outputs": [
    {
     "data": {
      "text/html": [
       "<div>\n",
       "<style scoped>\n",
       "    .dataframe tbody tr th:only-of-type {\n",
       "        vertical-align: middle;\n",
       "    }\n",
       "\n",
       "    .dataframe tbody tr th {\n",
       "        vertical-align: top;\n",
       "    }\n",
       "\n",
       "    .dataframe thead th {\n",
       "        text-align: right;\n",
       "    }\n",
       "</style>\n",
       "<table border=\"1\" class=\"dataframe\">\n",
       "  <thead>\n",
       "    <tr style=\"text-align: right;\">\n",
       "      <th></th>\n",
       "      <th>Year of event</th>\n",
       "      <th>Event dates</th>\n",
       "      <th>Event name</th>\n",
       "      <th>Event distance/length</th>\n",
       "      <th>Event number of finishers</th>\n",
       "      <th>Athlete performance</th>\n",
       "      <th>Athlete club</th>\n",
       "      <th>Athlete country</th>\n",
       "      <th>Athlete year of birth</th>\n",
       "      <th>Athlete gender</th>\n",
       "      <th>Athlete age category</th>\n",
       "      <th>Athlete average speed</th>\n",
       "      <th>Athlete ID</th>\n",
       "    </tr>\n",
       "  </thead>\n",
       "  <tbody>\n",
       "    <tr>\n",
       "      <th>0</th>\n",
       "      <td>2018</td>\n",
       "      <td>06.01.2018</td>\n",
       "      <td>Selva Costera (CHI)</td>\n",
       "      <td>50km</td>\n",
       "      <td>22</td>\n",
       "      <td>4:51:39 h</td>\n",
       "      <td>Tnfrc</td>\n",
       "      <td>CHI</td>\n",
       "      <td>1978.0</td>\n",
       "      <td>M</td>\n",
       "      <td>M35</td>\n",
       "      <td>10.286</td>\n",
       "      <td>0</td>\n",
       "    </tr>\n",
       "    <tr>\n",
       "      <th>1</th>\n",
       "      <td>2018</td>\n",
       "      <td>06.01.2018</td>\n",
       "      <td>Selva Costera (CHI)</td>\n",
       "      <td>50km</td>\n",
       "      <td>22</td>\n",
       "      <td>5:15:45 h</td>\n",
       "      <td>Roberto Echeverría</td>\n",
       "      <td>CHI</td>\n",
       "      <td>1981.0</td>\n",
       "      <td>M</td>\n",
       "      <td>M35</td>\n",
       "      <td>9.501</td>\n",
       "      <td>1</td>\n",
       "    </tr>\n",
       "    <tr>\n",
       "      <th>2</th>\n",
       "      <td>2018</td>\n",
       "      <td>06.01.2018</td>\n",
       "      <td>Selva Costera (CHI)</td>\n",
       "      <td>50km</td>\n",
       "      <td>22</td>\n",
       "      <td>5:16:44 h</td>\n",
       "      <td>Puro Trail Osorno</td>\n",
       "      <td>CHI</td>\n",
       "      <td>1987.0</td>\n",
       "      <td>M</td>\n",
       "      <td>M23</td>\n",
       "      <td>9.472</td>\n",
       "      <td>2</td>\n",
       "    </tr>\n",
       "    <tr>\n",
       "      <th>3</th>\n",
       "      <td>2018</td>\n",
       "      <td>06.01.2018</td>\n",
       "      <td>Selva Costera (CHI)</td>\n",
       "      <td>50km</td>\n",
       "      <td>22</td>\n",
       "      <td>5:34:13 h</td>\n",
       "      <td>Columbia</td>\n",
       "      <td>ARG</td>\n",
       "      <td>1976.0</td>\n",
       "      <td>M</td>\n",
       "      <td>M40</td>\n",
       "      <td>8.976</td>\n",
       "      <td>3</td>\n",
       "    </tr>\n",
       "    <tr>\n",
       "      <th>4</th>\n",
       "      <td>2018</td>\n",
       "      <td>06.01.2018</td>\n",
       "      <td>Selva Costera (CHI)</td>\n",
       "      <td>50km</td>\n",
       "      <td>22</td>\n",
       "      <td>5:54:14 h</td>\n",
       "      <td>Baguales Trail</td>\n",
       "      <td>CHI</td>\n",
       "      <td>1992.0</td>\n",
       "      <td>M</td>\n",
       "      <td>M23</td>\n",
       "      <td>8.469</td>\n",
       "      <td>4</td>\n",
       "    </tr>\n",
       "  </tbody>\n",
       "</table>\n",
       "</div>"
      ],
      "text/plain": [
       "   Year of event Event dates           Event name Event distance/length  \\\n",
       "0           2018  06.01.2018  Selva Costera (CHI)                  50km   \n",
       "1           2018  06.01.2018  Selva Costera (CHI)                  50km   \n",
       "2           2018  06.01.2018  Selva Costera (CHI)                  50km   \n",
       "3           2018  06.01.2018  Selva Costera (CHI)                  50km   \n",
       "4           2018  06.01.2018  Selva Costera (CHI)                  50km   \n",
       "\n",
       "   Event number of finishers Athlete performance        Athlete club  \\\n",
       "0                         22           4:51:39 h               Tnfrc   \n",
       "1                         22           5:15:45 h  Roberto Echeverría   \n",
       "2                         22           5:16:44 h   Puro Trail Osorno   \n",
       "3                         22           5:34:13 h            Columbia   \n",
       "4                         22           5:54:14 h      Baguales Trail   \n",
       "\n",
       "  Athlete country  Athlete year of birth Athlete gender Athlete age category  \\\n",
       "0             CHI                 1978.0              M                  M35   \n",
       "1             CHI                 1981.0              M                  M35   \n",
       "2             CHI                 1987.0              M                  M23   \n",
       "3             ARG                 1976.0              M                  M40   \n",
       "4             CHI                 1992.0              M                  M23   \n",
       "\n",
       "  Athlete average speed  Athlete ID  \n",
       "0                10.286           0  \n",
       "1                 9.501           1  \n",
       "2                 9.472           2  \n",
       "3                 8.976           3  \n",
       "4                 8.469           4  "
      ]
     },
     "execution_count": 6,
     "metadata": {},
     "output_type": "execute_result"
    }
   ],
   "source": [
    "df.head()"
   ]
  },
  {
   "cell_type": "code",
   "execution_count": 7,
   "metadata": {},
   "outputs": [
    {
     "data": {
      "text/plain": [
       "(7461195, 13)"
      ]
     },
     "execution_count": 7,
     "metadata": {},
     "output_type": "execute_result"
    }
   ],
   "source": [
    "df.shape"
   ]
  },
  {
   "cell_type": "markdown",
   "metadata": {},
   "source": [
    "The dataset contains over 7 million records between 1798 and 2022!"
   ]
  },
  {
   "cell_type": "code",
   "execution_count": 8,
   "metadata": {},
   "outputs": [
    {
     "data": {
      "text/plain": [
       "Year of event                  int64\n",
       "Event dates                   object\n",
       "Event name                    object\n",
       "Event distance/length         object\n",
       "Event number of finishers      int64\n",
       "Athlete performance           object\n",
       "Athlete club                  object\n",
       "Athlete country               object\n",
       "Athlete year of birth        float64\n",
       "Athlete gender                object\n",
       "Athlete age category          object\n",
       "Athlete average speed         object\n",
       "Athlete ID                     int64\n",
       "dtype: object"
      ]
     },
     "execution_count": 8,
     "metadata": {},
     "output_type": "execute_result"
    }
   ],
   "source": [
    "df.dtypes"
   ]
  },
  {
   "cell_type": "code",
   "execution_count": 9,
   "metadata": {},
   "outputs": [],
   "source": [
    "df_2022 = df[df['Year of event'] == 2022]"
   ]
  },
  {
   "cell_type": "code",
   "execution_count": 11,
   "metadata": {},
   "outputs": [
    {
     "data": {
      "text/plain": [
       "<Axes: title={'center': 'No of Events in each country in 2022'}, xlabel='Country', ylabel='Count'>"
      ]
     },
     "execution_count": 11,
     "metadata": {},
     "output_type": "execute_result"
    },
    {
     "data": {
      "image/png": "[encoded data removed]",
      "text/plain": [
       "<Figure size 1000x500 with 1 Axes>"
      ]
     },
     "metadata": {},
     "output_type": "display_data"
    }
   ],
   "source": [
    "df_2022['Event name'].str.split('(').str.get(1).str.split(')').str.get(0).value_counts().head(10).plot(\n",
    "    kind='bar',title='No of Events in each country in 2022',ylabel='Count',xlabel='Country',color='lightblue',figsize=(10,5))"
   ]
  },
  {
   "cell_type": "markdown",
   "metadata": {},
   "source": [
    "The chart above shows the ultramarathon races in 2022 by the countries in which they were held. The USA has the highest representation with just over 100k races, France second with also almost 100k races."
   ]
  },
  {
   "cell_type": "markdown",
   "metadata": {},
   "source": [
    "# Clean up data\n",
    "Only want Races in the Czech Republic or Slovakia in 2022."
   ]
  },
  {
   "cell_type": "code",
   "execution_count": 9,
   "metadata": {},
   "outputs": [
    {
     "data": {
      "text/html": [
       "<div>\n",
       "<style scoped>\n",
       "    .dataframe tbody tr th:only-of-type {\n",
       "        vertical-align: middle;\n",
       "    }\n",
       "\n",
       "    .dataframe tbody tr th {\n",
       "        vertical-align: top;\n",
       "    }\n",
       "\n",
       "    .dataframe thead th {\n",
       "        text-align: right;\n",
       "    }\n",
       "</style>\n",
       "<table border=\"1\" class=\"dataframe\">\n",
       "  <thead>\n",
       "    <tr style=\"text-align: right;\">\n",
       "      <th></th>\n",
       "      <th>Year of event</th>\n",
       "      <th>Event dates</th>\n",
       "      <th>Event name</th>\n",
       "      <th>Event distance/length</th>\n",
       "      <th>Event number of finishers</th>\n",
       "      <th>Athlete performance</th>\n",
       "      <th>Athlete club</th>\n",
       "      <th>Athlete country</th>\n",
       "      <th>Athlete year of birth</th>\n",
       "      <th>Athlete gender</th>\n",
       "      <th>Athlete age category</th>\n",
       "      <th>Athlete average speed</th>\n",
       "      <th>Athlete ID</th>\n",
       "    </tr>\n",
       "  </thead>\n",
       "  <tbody>\n",
       "    <tr>\n",
       "      <th>3144592</th>\n",
       "      <td>2022</td>\n",
       "      <td>05.03.2022</td>\n",
       "      <td>Běhu na 50 Km Pilsen (CZE)</td>\n",
       "      <td>50km</td>\n",
       "      <td>5</td>\n",
       "      <td>4:09:11 h</td>\n",
       "      <td>Srtg Most</td>\n",
       "      <td>CZE</td>\n",
       "      <td>1983.0</td>\n",
       "      <td>F</td>\n",
       "      <td>W35</td>\n",
       "      <td>12.039</td>\n",
       "      <td>948743</td>\n",
       "    </tr>\n",
       "    <tr>\n",
       "      <th>3144593</th>\n",
       "      <td>2022</td>\n",
       "      <td>05.03.2022</td>\n",
       "      <td>Běhu na 50 Km Pilsen (CZE)</td>\n",
       "      <td>50km</td>\n",
       "      <td>5</td>\n",
       "      <td>4:17:11 h</td>\n",
       "      <td>MK Kladno</td>\n",
       "      <td>CZE</td>\n",
       "      <td>1984.0</td>\n",
       "      <td>M</td>\n",
       "      <td>M35</td>\n",
       "      <td>11.665</td>\n",
       "      <td>119714</td>\n",
       "    </tr>\n",
       "    <tr>\n",
       "      <th>3144594</th>\n",
       "      <td>2022</td>\n",
       "      <td>05.03.2022</td>\n",
       "      <td>Běhu na 50 Km Pilsen (CZE)</td>\n",
       "      <td>50km</td>\n",
       "      <td>5</td>\n",
       "      <td>4:19:27 h</td>\n",
       "      <td>Rumning Klap</td>\n",
       "      <td>CZE</td>\n",
       "      <td>1967.0</td>\n",
       "      <td>M</td>\n",
       "      <td>M50</td>\n",
       "      <td>11.563</td>\n",
       "      <td>167471</td>\n",
       "    </tr>\n",
       "    <tr>\n",
       "      <th>3144595</th>\n",
       "      <td>2022</td>\n",
       "      <td>05.03.2022</td>\n",
       "      <td>Běhu na 50 Km Pilsen (CZE)</td>\n",
       "      <td>50km</td>\n",
       "      <td>5</td>\n",
       "      <td>4:29:10 h</td>\n",
       "      <td>*Chedenice</td>\n",
       "      <td>CZE</td>\n",
       "      <td>1978.0</td>\n",
       "      <td>F</td>\n",
       "      <td>W40</td>\n",
       "      <td>11.146</td>\n",
       "      <td>119731</td>\n",
       "    </tr>\n",
       "    <tr>\n",
       "      <th>3144596</th>\n",
       "      <td>2022</td>\n",
       "      <td>05.03.2022</td>\n",
       "      <td>Běhu na 50 Km Pilsen (CZE)</td>\n",
       "      <td>50km</td>\n",
       "      <td>5</td>\n",
       "      <td>5:51:08 h</td>\n",
       "      <td>Irico Olomouc</td>\n",
       "      <td>CZE</td>\n",
       "      <td>1952.0</td>\n",
       "      <td>M</td>\n",
       "      <td>M65</td>\n",
       "      <td>8.544</td>\n",
       "      <td>416487</td>\n",
       "    </tr>\n",
       "  </tbody>\n",
       "</table>\n",
       "</div>"
      ],
      "text/plain": [
       "         Year of event Event dates                  Event name  \\\n",
       "3144592           2022  05.03.2022  Běhu na 50 Km Pilsen (CZE)   \n",
       "3144593           2022  05.03.2022  Běhu na 50 Km Pilsen (CZE)   \n",
       "3144594           2022  05.03.2022  Běhu na 50 Km Pilsen (CZE)   \n",
       "3144595           2022  05.03.2022  Běhu na 50 Km Pilsen (CZE)   \n",
       "3144596           2022  05.03.2022  Běhu na 50 Km Pilsen (CZE)   \n",
       "\n",
       "        Event distance/length  Event number of finishers Athlete performance  \\\n",
       "3144592                  50km                          5           4:09:11 h   \n",
       "3144593                  50km                          5           4:17:11 h   \n",
       "3144594                  50km                          5           4:19:27 h   \n",
       "3144595                  50km                          5           4:29:10 h   \n",
       "3144596                  50km                          5           5:51:08 h   \n",
       "\n",
       "          Athlete club Athlete country  Athlete year of birth Athlete gender  \\\n",
       "3144592      Srtg Most             CZE                 1983.0              F   \n",
       "3144593      MK Kladno             CZE                 1984.0              M   \n",
       "3144594   Rumning Klap             CZE                 1967.0              M   \n",
       "3144595     *Chedenice             CZE                 1978.0              F   \n",
       "3144596  Irico Olomouc             CZE                 1952.0              M   \n",
       "\n",
       "        Athlete age category Athlete average speed  Athlete ID  \n",
       "3144592                  W35                12.039      948743  \n",
       "3144593                  M35                11.665      119714  \n",
       "3144594                  M50                11.563      167471  \n",
       "3144595                  W40                11.146      119731  \n",
       "3144596                  M65                 8.544      416487  "
      ]
     },
     "execution_count": 9,
     "metadata": {},
     "output_type": "execute_result"
    }
   ],
   "source": [
    "df[(df['Event name'].str.contains('CZE|SVK')) & (df['Year of event'] == 2022)].head()"
   ]
  },
  {
   "cell_type": "markdown",
   "metadata": {},
   "source": [
    "# Assign the filtered data into a new dataframe"
   ]
  },
  {
   "cell_type": "code",
   "execution_count": 10,
   "metadata": {},
   "outputs": [],
   "source": [
    "df2 = df[(df['Event name'].str.contains('CZE|SVK')) & (df['Year of event'] == 2022)]"
   ]
  },
  {
   "cell_type": "code",
   "execution_count": 11,
   "metadata": {},
   "outputs": [
    {
     "data": {
      "text/plain": [
       "(2537, 13)"
      ]
     },
     "execution_count": 11,
     "metadata": {},
     "output_type": "execute_result"
    }
   ],
   "source": [
    "df2.shape"
   ]
  },
  {
   "cell_type": "markdown",
   "metadata": {},
   "source": [
    "Now we have 2537 records for the races only in the Czech Republic or Slovakia in 2022."
   ]
  },
  {
   "cell_type": "markdown",
   "metadata": {},
   "source": [
    "# Clean up athlete age\n",
    "Subtract the athlete's year of birth from 2022 and create a new column 'athlete_age'."
   ]
  },
  {
   "cell_type": "code",
   "execution_count": null,
   "metadata": {},
   "outputs": [],
   "source": [
    "df2['athlete_age'] = 2022 - df2['Athlete year of birth']"
   ]
  },
  {
   "cell_type": "markdown",
   "metadata": {},
   "source": [
    "# Remove 'h' from Athlete performance column"
   ]
  },
  {
   "cell_type": "code",
   "execution_count": null,
   "metadata": {},
   "outputs": [],
   "source": [
    "df2['Athlete performance'] = df2['Athlete performance'].str.split(' ').str.get(0)"
   ]
  },
  {
   "cell_type": "markdown",
   "metadata": {},
   "source": [
    "# Drop columns: Athlete club, Athlete age category, Athlete year of birth"
   ]
  },
  {
   "cell_type": "code",
   "execution_count": 14,
   "metadata": {},
   "outputs": [],
   "source": [
    "df2 = df2.drop(['Athlete club', 'Athlete year of birth', 'Athlete age category'], axis=1)"
   ]
  },
  {
   "cell_type": "markdown",
   "metadata": {},
   "source": [
    "# Clean up null values"
   ]
  },
  {
   "cell_type": "code",
   "execution_count": 15,
   "metadata": {},
   "outputs": [
    {
     "data": {
      "text/plain": [
       "Year of event                 0\n",
       "Event dates                   0\n",
       "Event name                    0\n",
       "Event distance/length         0\n",
       "Event number of finishers     0\n",
       "Athlete performance           0\n",
       "Athlete country               0\n",
       "Athlete gender                0\n",
       "Athlete average speed         0\n",
       "Athlete ID                    0\n",
       "athlete_age                  13\n",
       "dtype: int64"
      ]
     },
     "execution_count": 15,
     "metadata": {},
     "output_type": "execute_result"
    }
   ],
   "source": [
    "df2.isna().sum()"
   ]
  },
  {
   "cell_type": "code",
   "execution_count": 16,
   "metadata": {},
   "outputs": [
    {
     "data": {
      "text/html": [
       "<div>\n",
       "<style scoped>\n",
       "    .dataframe tbody tr th:only-of-type {\n",
       "        vertical-align: middle;\n",
       "    }\n",
       "\n",
       "    .dataframe tbody tr th {\n",
       "        vertical-align: top;\n",
       "    }\n",
       "\n",
       "    .dataframe thead th {\n",
       "        text-align: right;\n",
       "    }\n",
       "</style>\n",
       "<table border=\"1\" class=\"dataframe\">\n",
       "  <thead>\n",
       "    <tr style=\"text-align: right;\">\n",
       "      <th></th>\n",
       "      <th>Year of event</th>\n",
       "      <th>Event dates</th>\n",
       "      <th>Event name</th>\n",
       "      <th>Event distance/length</th>\n",
       "      <th>Event number of finishers</th>\n",
       "      <th>Athlete performance</th>\n",
       "      <th>Athlete country</th>\n",
       "      <th>Athlete gender</th>\n",
       "      <th>Athlete average speed</th>\n",
       "      <th>Athlete ID</th>\n",
       "      <th>athlete_age</th>\n",
       "    </tr>\n",
       "  </thead>\n",
       "  <tbody>\n",
       "    <tr>\n",
       "      <th>3190776</th>\n",
       "      <td>2022</td>\n",
       "      <td>22.-23.04.2022</td>\n",
       "      <td>Big Bear’s Backyard Ultra (SVK)</td>\n",
       "      <td>36h</td>\n",
       "      <td>68</td>\n",
       "      <td>167.650</td>\n",
       "      <td>SVK</td>\n",
       "      <td>M</td>\n",
       "      <td>25</td>\n",
       "      <td>945596</td>\n",
       "      <td>NaN</td>\n",
       "    </tr>\n",
       "    <tr>\n",
       "      <th>3190799</th>\n",
       "      <td>2022</td>\n",
       "      <td>22.-23.04.2022</td>\n",
       "      <td>Big Bear’s Backyard Ultra (SVK)</td>\n",
       "      <td>36h</td>\n",
       "      <td>68</td>\n",
       "      <td>100.590</td>\n",
       "      <td>SVK</td>\n",
       "      <td>M</td>\n",
       "      <td>15</td>\n",
       "      <td>956948</td>\n",
       "      <td>NaN</td>\n",
       "    </tr>\n",
       "    <tr>\n",
       "      <th>3190806</th>\n",
       "      <td>2022</td>\n",
       "      <td>22.-23.04.2022</td>\n",
       "      <td>Big Bear’s Backyard Ultra (SVK)</td>\n",
       "      <td>36h</td>\n",
       "      <td>68</td>\n",
       "      <td>87.178</td>\n",
       "      <td>SVK</td>\n",
       "      <td>M</td>\n",
       "      <td>13</td>\n",
       "      <td>956950</td>\n",
       "      <td>NaN</td>\n",
       "    </tr>\n",
       "    <tr>\n",
       "      <th>3190807</th>\n",
       "      <td>2022</td>\n",
       "      <td>22.-23.04.2022</td>\n",
       "      <td>Big Bear’s Backyard Ultra (SVK)</td>\n",
       "      <td>36h</td>\n",
       "      <td>68</td>\n",
       "      <td>80.472</td>\n",
       "      <td>SVK</td>\n",
       "      <td>F</td>\n",
       "      <td>12</td>\n",
       "      <td>956951</td>\n",
       "      <td>NaN</td>\n",
       "    </tr>\n",
       "    <tr>\n",
       "      <th>3190818</th>\n",
       "      <td>2022</td>\n",
       "      <td>22.-23.04.2022</td>\n",
       "      <td>Big Bear’s Backyard Ultra (SVK)</td>\n",
       "      <td>36h</td>\n",
       "      <td>68</td>\n",
       "      <td>80.472</td>\n",
       "      <td>SVK</td>\n",
       "      <td>M</td>\n",
       "      <td>12</td>\n",
       "      <td>956953</td>\n",
       "      <td>NaN</td>\n",
       "    </tr>\n",
       "  </tbody>\n",
       "</table>\n",
       "</div>"
      ],
      "text/plain": [
       "         Year of event     Event dates                       Event name  \\\n",
       "3190776           2022  22.-23.04.2022  Big Bear’s Backyard Ultra (SVK)   \n",
       "3190799           2022  22.-23.04.2022  Big Bear’s Backyard Ultra (SVK)   \n",
       "3190806           2022  22.-23.04.2022  Big Bear’s Backyard Ultra (SVK)   \n",
       "3190807           2022  22.-23.04.2022  Big Bear’s Backyard Ultra (SVK)   \n",
       "3190818           2022  22.-23.04.2022  Big Bear’s Backyard Ultra (SVK)   \n",
       "\n",
       "        Event distance/length  Event number of finishers Athlete performance  \\\n",
       "3190776                   36h                         68             167.650   \n",
       "3190799                   36h                         68             100.590   \n",
       "3190806                   36h                         68              87.178   \n",
       "3190807                   36h                         68              80.472   \n",
       "3190818                   36h                         68              80.472   \n",
       "\n",
       "        Athlete country Athlete gender Athlete average speed  Athlete ID  \\\n",
       "3190776             SVK              M                    25      945596   \n",
       "3190799             SVK              M                    15      956948   \n",
       "3190806             SVK              M                    13      956950   \n",
       "3190807             SVK              F                    12      956951   \n",
       "3190818             SVK              M                    12      956953   \n",
       "\n",
       "         athlete_age  \n",
       "3190776          NaN  \n",
       "3190799          NaN  \n",
       "3190806          NaN  \n",
       "3190807          NaN  \n",
       "3190818          NaN  "
      ]
     },
     "execution_count": 16,
     "metadata": {},
     "output_type": "execute_result"
    }
   ],
   "source": [
    "df2[df2['athlete_age'].isna()==True].head()"
   ]
  },
  {
   "cell_type": "code",
   "execution_count": 17,
   "metadata": {},
   "outputs": [],
   "source": [
    "df2 = df2.dropna()"
   ]
  },
  {
   "cell_type": "markdown",
   "metadata": {},
   "source": [
    "Here it was necessary to remove records that did not contain any data (null values) in order to convert 'athlete_age' to integer."
   ]
  },
  {
   "cell_type": "markdown",
   "metadata": {},
   "source": [
    "# Check for duplicates"
   ]
  },
  {
   "cell_type": "code",
   "execution_count": 18,
   "metadata": {},
   "outputs": [
    {
     "data": {
      "text/html": [
       "<div>\n",
       "<style scoped>\n",
       "    .dataframe tbody tr th:only-of-type {\n",
       "        vertical-align: middle;\n",
       "    }\n",
       "\n",
       "    .dataframe tbody tr th {\n",
       "        vertical-align: top;\n",
       "    }\n",
       "\n",
       "    .dataframe thead th {\n",
       "        text-align: right;\n",
       "    }\n",
       "</style>\n",
       "<table border=\"1\" class=\"dataframe\">\n",
       "  <thead>\n",
       "    <tr style=\"text-align: right;\">\n",
       "      <th></th>\n",
       "      <th>Year of event</th>\n",
       "      <th>Event dates</th>\n",
       "      <th>Event name</th>\n",
       "      <th>Event distance/length</th>\n",
       "      <th>Event number of finishers</th>\n",
       "      <th>Athlete performance</th>\n",
       "      <th>Athlete country</th>\n",
       "      <th>Athlete gender</th>\n",
       "      <th>Athlete average speed</th>\n",
       "      <th>Athlete ID</th>\n",
       "      <th>athlete_age</th>\n",
       "    </tr>\n",
       "  </thead>\n",
       "  <tbody>\n",
       "  </tbody>\n",
       "</table>\n",
       "</div>"
      ],
      "text/plain": [
       "Empty DataFrame\n",
       "Columns: [Year of event, Event dates, Event name, Event distance/length, Event number of finishers, Athlete performance, Athlete country, Athlete gender, Athlete average speed, Athlete ID, athlete_age]\n",
       "Index: []"
      ]
     },
     "execution_count": 18,
     "metadata": {},
     "output_type": "execute_result"
    }
   ],
   "source": [
    "df2[df2.duplicated() == True]"
   ]
  },
  {
   "cell_type": "markdown",
   "metadata": {},
   "source": [
    "We have no duplicate records in the data."
   ]
  },
  {
   "cell_type": "markdown",
   "metadata": {},
   "source": [
    "# Reset index"
   ]
  },
  {
   "cell_type": "code",
   "execution_count": 19,
   "metadata": {},
   "outputs": [
    {
     "data": {
      "text/html": [
       "<div>\n",
       "<style scoped>\n",
       "    .dataframe tbody tr th:only-of-type {\n",
       "        vertical-align: middle;\n",
       "    }\n",
       "\n",
       "    .dataframe tbody tr th {\n",
       "        vertical-align: top;\n",
       "    }\n",
       "\n",
       "    .dataframe thead th {\n",
       "        text-align: right;\n",
       "    }\n",
       "</style>\n",
       "<table border=\"1\" class=\"dataframe\">\n",
       "  <thead>\n",
       "    <tr style=\"text-align: right;\">\n",
       "      <th></th>\n",
       "      <th>Year of event</th>\n",
       "      <th>Event dates</th>\n",
       "      <th>Event name</th>\n",
       "      <th>Event distance/length</th>\n",
       "      <th>Event number of finishers</th>\n",
       "      <th>Athlete performance</th>\n",
       "      <th>Athlete country</th>\n",
       "      <th>Athlete gender</th>\n",
       "      <th>Athlete average speed</th>\n",
       "      <th>Athlete ID</th>\n",
       "      <th>athlete_age</th>\n",
       "    </tr>\n",
       "  </thead>\n",
       "  <tbody>\n",
       "    <tr>\n",
       "      <th>0</th>\n",
       "      <td>2022</td>\n",
       "      <td>05.03.2022</td>\n",
       "      <td>Běhu na 50 Km Pilsen (CZE)</td>\n",
       "      <td>50km</td>\n",
       "      <td>5</td>\n",
       "      <td>4:09:11</td>\n",
       "      <td>CZE</td>\n",
       "      <td>F</td>\n",
       "      <td>12.039</td>\n",
       "      <td>948743</td>\n",
       "      <td>39.0</td>\n",
       "    </tr>\n",
       "    <tr>\n",
       "      <th>1</th>\n",
       "      <td>2022</td>\n",
       "      <td>05.03.2022</td>\n",
       "      <td>Běhu na 50 Km Pilsen (CZE)</td>\n",
       "      <td>50km</td>\n",
       "      <td>5</td>\n",
       "      <td>4:17:11</td>\n",
       "      <td>CZE</td>\n",
       "      <td>M</td>\n",
       "      <td>11.665</td>\n",
       "      <td>119714</td>\n",
       "      <td>38.0</td>\n",
       "    </tr>\n",
       "    <tr>\n",
       "      <th>2</th>\n",
       "      <td>2022</td>\n",
       "      <td>05.03.2022</td>\n",
       "      <td>Běhu na 50 Km Pilsen (CZE)</td>\n",
       "      <td>50km</td>\n",
       "      <td>5</td>\n",
       "      <td>4:19:27</td>\n",
       "      <td>CZE</td>\n",
       "      <td>M</td>\n",
       "      <td>11.563</td>\n",
       "      <td>167471</td>\n",
       "      <td>55.0</td>\n",
       "    </tr>\n",
       "    <tr>\n",
       "      <th>3</th>\n",
       "      <td>2022</td>\n",
       "      <td>05.03.2022</td>\n",
       "      <td>Běhu na 50 Km Pilsen (CZE)</td>\n",
       "      <td>50km</td>\n",
       "      <td>5</td>\n",
       "      <td>4:29:10</td>\n",
       "      <td>CZE</td>\n",
       "      <td>F</td>\n",
       "      <td>11.146</td>\n",
       "      <td>119731</td>\n",
       "      <td>44.0</td>\n",
       "    </tr>\n",
       "    <tr>\n",
       "      <th>4</th>\n",
       "      <td>2022</td>\n",
       "      <td>05.03.2022</td>\n",
       "      <td>Běhu na 50 Km Pilsen (CZE)</td>\n",
       "      <td>50km</td>\n",
       "      <td>5</td>\n",
       "      <td>5:51:08</td>\n",
       "      <td>CZE</td>\n",
       "      <td>M</td>\n",
       "      <td>8.544</td>\n",
       "      <td>416487</td>\n",
       "      <td>70.0</td>\n",
       "    </tr>\n",
       "    <tr>\n",
       "      <th>...</th>\n",
       "      <td>...</td>\n",
       "      <td>...</td>\n",
       "      <td>...</td>\n",
       "      <td>...</td>\n",
       "      <td>...</td>\n",
       "      <td>...</td>\n",
       "      <td>...</td>\n",
       "      <td>...</td>\n",
       "      <td>...</td>\n",
       "      <td>...</td>\n",
       "      <td>...</td>\n",
       "    </tr>\n",
       "    <tr>\n",
       "      <th>2519</th>\n",
       "      <td>2022</td>\n",
       "      <td>22.10.2022</td>\n",
       "      <td>Slapy Trail Maniacs (CZE)</td>\n",
       "      <td>61km</td>\n",
       "      <td>74</td>\n",
       "      <td>10:31:22</td>\n",
       "      <td>CZE</td>\n",
       "      <td>M</td>\n",
       "      <td>5.797</td>\n",
       "      <td>310562</td>\n",
       "      <td>49.0</td>\n",
       "    </tr>\n",
       "    <tr>\n",
       "      <th>2520</th>\n",
       "      <td>2022</td>\n",
       "      <td>22.10.2022</td>\n",
       "      <td>Slapy Trail Maniacs (CZE)</td>\n",
       "      <td>61km</td>\n",
       "      <td>74</td>\n",
       "      <td>11:00:06</td>\n",
       "      <td>CZE</td>\n",
       "      <td>M</td>\n",
       "      <td>5.545</td>\n",
       "      <td>777810</td>\n",
       "      <td>38.0</td>\n",
       "    </tr>\n",
       "    <tr>\n",
       "      <th>2521</th>\n",
       "      <td>2022</td>\n",
       "      <td>22.10.2022</td>\n",
       "      <td>Slapy Trail Maniacs (CZE)</td>\n",
       "      <td>61km</td>\n",
       "      <td>74</td>\n",
       "      <td>11:00:06</td>\n",
       "      <td>CZE</td>\n",
       "      <td>M</td>\n",
       "      <td>5.545</td>\n",
       "      <td>777811</td>\n",
       "      <td>35.0</td>\n",
       "    </tr>\n",
       "    <tr>\n",
       "      <th>2522</th>\n",
       "      <td>2022</td>\n",
       "      <td>22.10.2022</td>\n",
       "      <td>Slapy Trail Maniacs (CZE)</td>\n",
       "      <td>61km</td>\n",
       "      <td>74</td>\n",
       "      <td>11:29:06</td>\n",
       "      <td>CZE</td>\n",
       "      <td>M</td>\n",
       "      <td>5.311</td>\n",
       "      <td>1043284</td>\n",
       "      <td>34.0</td>\n",
       "    </tr>\n",
       "    <tr>\n",
       "      <th>2523</th>\n",
       "      <td>2022</td>\n",
       "      <td>22.10.2022</td>\n",
       "      <td>Slapy Trail Maniacs (CZE)</td>\n",
       "      <td>61km</td>\n",
       "      <td>74</td>\n",
       "      <td>12:01:54</td>\n",
       "      <td>CZE</td>\n",
       "      <td>M</td>\n",
       "      <td>5.07</td>\n",
       "      <td>724855</td>\n",
       "      <td>46.0</td>\n",
       "    </tr>\n",
       "  </tbody>\n",
       "</table>\n",
       "<p>2524 rows × 11 columns</p>\n",
       "</div>"
      ],
      "text/plain": [
       "      Year of event Event dates                  Event name  \\\n",
       "0              2022  05.03.2022  Běhu na 50 Km Pilsen (CZE)   \n",
       "1              2022  05.03.2022  Běhu na 50 Km Pilsen (CZE)   \n",
       "2              2022  05.03.2022  Běhu na 50 Km Pilsen (CZE)   \n",
       "3              2022  05.03.2022  Běhu na 50 Km Pilsen (CZE)   \n",
       "4              2022  05.03.2022  Běhu na 50 Km Pilsen (CZE)   \n",
       "...             ...         ...                         ...   \n",
       "2519           2022  22.10.2022   Slapy Trail Maniacs (CZE)   \n",
       "2520           2022  22.10.2022   Slapy Trail Maniacs (CZE)   \n",
       "2521           2022  22.10.2022   Slapy Trail Maniacs (CZE)   \n",
       "2522           2022  22.10.2022   Slapy Trail Maniacs (CZE)   \n",
       "2523           2022  22.10.2022   Slapy Trail Maniacs (CZE)   \n",
       "\n",
       "     Event distance/length  Event number of finishers Athlete performance  \\\n",
       "0                     50km                          5             4:09:11   \n",
       "1                     50km                          5             4:17:11   \n",
       "2                     50km                          5             4:19:27   \n",
       "3                     50km                          5             4:29:10   \n",
       "4                     50km                          5             5:51:08   \n",
       "...                    ...                        ...                 ...   \n",
       "2519                  61km                         74            10:31:22   \n",
       "2520                  61km                         74            11:00:06   \n",
       "2521                  61km                         74            11:00:06   \n",
       "2522                  61km                         74            11:29:06   \n",
       "2523                  61km                         74            12:01:54   \n",
       "\n",
       "     Athlete country Athlete gender Athlete average speed  Athlete ID  \\\n",
       "0                CZE              F                12.039      948743   \n",
       "1                CZE              M                11.665      119714   \n",
       "2                CZE              M                11.563      167471   \n",
       "3                CZE              F                11.146      119731   \n",
       "4                CZE              M                 8.544      416487   \n",
       "...              ...            ...                   ...         ...   \n",
       "2519             CZE              M                 5.797      310562   \n",
       "2520             CZE              M                 5.545      777810   \n",
       "2521             CZE              M                 5.545      777811   \n",
       "2522             CZE              M                 5.311     1043284   \n",
       "2523             CZE              M                  5.07      724855   \n",
       "\n",
       "      athlete_age  \n",
       "0            39.0  \n",
       "1            38.0  \n",
       "2            55.0  \n",
       "3            44.0  \n",
       "4            70.0  \n",
       "...           ...  \n",
       "2519         49.0  \n",
       "2520         38.0  \n",
       "2521         35.0  \n",
       "2522         34.0  \n",
       "2523         46.0  \n",
       "\n",
       "[2524 rows x 11 columns]"
      ]
     },
     "execution_count": 19,
     "metadata": {},
     "output_type": "execute_result"
    }
   ],
   "source": [
    "df2.reset_index(drop=True)"
   ]
  },
  {
   "cell_type": "markdown",
   "metadata": {},
   "source": [
    "# Fix data types"
   ]
  },
  {
   "cell_type": "code",
   "execution_count": 20,
   "metadata": {},
   "outputs": [
    {
     "data": {
      "text/plain": [
       "Year of event                  int64\n",
       "Event dates                   object\n",
       "Event name                    object\n",
       "Event distance/length         object\n",
       "Event number of finishers      int64\n",
       "Athlete performance           object\n",
       "Athlete country               object\n",
       "Athlete gender                object\n",
       "Athlete average speed         object\n",
       "Athlete ID                     int64\n",
       "athlete_age                  float64\n",
       "dtype: object"
      ]
     },
     "execution_count": 20,
     "metadata": {},
     "output_type": "execute_result"
    }
   ],
   "source": [
    "df2.dtypes"
   ]
  },
  {
   "cell_type": "code",
   "execution_count": 21,
   "metadata": {},
   "outputs": [],
   "source": [
    "df2['athlete_age'] = df2['athlete_age'].astype(int)"
   ]
  },
  {
   "cell_type": "code",
   "execution_count": 22,
   "metadata": {},
   "outputs": [],
   "source": [
    "df2['Athlete average speed'] = df2['Athlete average speed'].astype(float)"
   ]
  },
  {
   "cell_type": "code",
   "execution_count": 23,
   "metadata": {},
   "outputs": [
    {
     "data": {
      "text/plain": [
       "Year of event                  int64\n",
       "Event dates                   object\n",
       "Event name                    object\n",
       "Event distance/length         object\n",
       "Event number of finishers      int64\n",
       "Athlete performance           object\n",
       "Athlete country               object\n",
       "Athlete gender                object\n",
       "Athlete average speed        float64\n",
       "Athlete ID                     int64\n",
       "athlete_age                    int32\n",
       "dtype: object"
      ]
     },
     "execution_count": 23,
     "metadata": {},
     "output_type": "execute_result"
    }
   ],
   "source": [
    "df2.dtypes"
   ]
  },
  {
   "cell_type": "markdown",
   "metadata": {},
   "source": [
    "Convert 'athlete_age' to integer and 'Athlete average speed' to float."
   ]
  },
  {
   "cell_type": "markdown",
   "metadata": {},
   "source": [
    "# Rename columns\n",
    "Remove spaces and in lowercase, because it's clearer and much easier to work with in the future."
   ]
  },
  {
   "cell_type": "code",
   "execution_count": 24,
   "metadata": {},
   "outputs": [],
   "source": [
    "df2 = df2.rename(columns={'Year of event': 'year',\n",
    "                          'Event dates' : 'race_day',\n",
    "                          'Event name' : 'race',\n",
    "                          'Event distance/length' : 'race_length',\n",
    "                          'Event number of finishers' : 'race_no_of_finishers',\n",
    "                          'Athlete performance' : 'athlete_performance',\n",
    "                          'Athlete country' : 'athlete_country',\n",
    "                          'Athlete gender' : 'athlete_gender',\n",
    "                          'Athlete average speed' : 'athlete_avg_speed',\n",
    "                          'Athlete ID' : 'athlete_id'\n",
    "                          })"
   ]
  },
  {
   "cell_type": "code",
   "execution_count": 25,
   "metadata": {},
   "outputs": [],
   "source": [
    "df3 = df2[['race_day', 'race', 'race_length', 'race_no_of_finishers', \n",
    "           'athlete_id', 'athlete_performance','athlete_avg_speed',\n",
    "           'athlete_gender', 'athlete_age', 'athlete_country'\n",
    "           ]]"
   ]
  },
  {
   "cell_type": "markdown",
   "metadata": {},
   "source": [
    "I also rearranged the columns to make it make more sense and removed the 'year' column because the dataset now only covers races in 2022, so it was redundant."
   ]
  },
  {
   "cell_type": "code",
   "execution_count": 26,
   "metadata": {},
   "outputs": [
    {
     "data": {
      "text/html": [
       "<div>\n",
       "<style scoped>\n",
       "    .dataframe tbody tr th:only-of-type {\n",
       "        vertical-align: middle;\n",
       "    }\n",
       "\n",
       "    .dataframe tbody tr th {\n",
       "        vertical-align: top;\n",
       "    }\n",
       "\n",
       "    .dataframe thead th {\n",
       "        text-align: right;\n",
       "    }\n",
       "</style>\n",
       "<table border=\"1\" class=\"dataframe\">\n",
       "  <thead>\n",
       "    <tr style=\"text-align: right;\">\n",
       "      <th></th>\n",
       "      <th>race_day</th>\n",
       "      <th>race</th>\n",
       "      <th>race_length</th>\n",
       "      <th>race_no_of_finishers</th>\n",
       "      <th>athlete_id</th>\n",
       "      <th>athlete_performance</th>\n",
       "      <th>athlete_avg_speed</th>\n",
       "      <th>athlete_gender</th>\n",
       "      <th>athlete_age</th>\n",
       "      <th>athlete_country</th>\n",
       "    </tr>\n",
       "  </thead>\n",
       "  <tbody>\n",
       "    <tr>\n",
       "      <th>3144592</th>\n",
       "      <td>05.03.2022</td>\n",
       "      <td>Běhu na 50 Km Pilsen (CZE)</td>\n",
       "      <td>50km</td>\n",
       "      <td>5</td>\n",
       "      <td>948743</td>\n",
       "      <td>4:09:11</td>\n",
       "      <td>12.039</td>\n",
       "      <td>F</td>\n",
       "      <td>39</td>\n",
       "      <td>CZE</td>\n",
       "    </tr>\n",
       "  </tbody>\n",
       "</table>\n",
       "</div>"
      ],
      "text/plain": [
       "           race_day                        race race_length  \\\n",
       "3144592  05.03.2022  Běhu na 50 Km Pilsen (CZE)        50km   \n",
       "\n",
       "         race_no_of_finishers  athlete_id athlete_performance  \\\n",
       "3144592                     5      948743             4:09:11   \n",
       "\n",
       "         athlete_avg_speed athlete_gender  athlete_age athlete_country  \n",
       "3144592             12.039              F           39             CZE  "
      ]
     },
     "execution_count": 26,
     "metadata": {},
     "output_type": "execute_result"
    }
   ],
   "source": [
    "df3.head(1)"
   ]
  },
  {
   "cell_type": "markdown",
   "metadata": {},
   "source": [
    "# Graphs and charts"
   ]
  },
  {
   "cell_type": "code",
   "execution_count": null,
   "metadata": {},
   "outputs": [],
   "source": [
    "plt.figure(figsize=(18, 7))\n",
    "sns.histplot(df3, x='race_length', hue='athlete_gender')"
   ]
  },
  {
   "cell_type": "markdown",
   "metadata": {},
   "source": [
    "As we can see, in the shortest ultramarton races (50 km) the distribution between women and men is very even. For longer races (e.g. 100 km or even more) there is a much higher representation of male athletes. "
   ]
  },
  {
   "cell_type": "code",
   "execution_count": null,
   "metadata": {},
   "outputs": [],
   "source": [
    "fig, axs = plt.subplots(1, 2, figsize=(12, 6))\n",
    "sns.histplot(df3[df3['race_length'] == '50km']['athlete_avg_speed'], ax=axs[0])\n",
    "axs[0].set_title('Race Length: 50km')\n",
    "sns.histplot(df3[df3['race_length'] == '100km']['athlete_avg_speed'], ax=axs[1])\n",
    "axs[1].set_title('Race Length: 100km')\n",
    "plt.tight_layout()"
   ]
  },
  {
   "cell_type": "markdown",
   "metadata": {},
   "source": [
    "In 2022, the two most common types of ultramarathon races in the Czech Republic and Slovakia were 50 km and 100 km. In the distibution chart we can see the average speed in 50 km and 100 km races. Athletes most often ran the 50 km race with almost twice the average speed. "
   ]
  },
  {
   "cell_type": "code",
   "execution_count": 29,
   "metadata": {},
   "outputs": [
    {
     "data": {
      "text/plain": [
       "<Axes: xlabel='race_length', ylabel='athlete_avg_speed'>"
      ]
     },
     "execution_count": 29,
     "metadata": {},
     "output_type": "execute_result"
    },
    {
     "data": {
      "image/png": "[encoded data removed]",
      "text/plain": [
       "<Figure size 640x480 with 1 Axes>"
      ]
     },
     "metadata": {},
     "output_type": "display_data"
    }
   ],
   "source": [
    "df_filtered = df3[df3['race_length'].isin(['50km', '100km'])]\n",
    "sns.violinplot(data=df_filtered, x='race_length', y='athlete_avg_speed', \n",
    "               hue='athlete_gender', split=True, inner='quart', linewidth=1)"
   ]
  },
  {
   "cell_type": "markdown",
   "metadata": {},
   "source": [
    "From this graph we can see that men are faster especially in the shorter 50 km race. However, for the 100 km race, the average speeds for female and male athletes are much more equal, where women are often able to run similar or better times than men."
   ]
  },
  {
   "cell_type": "code",
   "execution_count": 30,
   "metadata": {},
   "outputs": [
    {
     "data": {
      "text/plain": [
       "<seaborn.axisgrid.FacetGrid at 0x128ad878f90>"
      ]
     },
     "execution_count": 30,
     "metadata": {},
     "output_type": "execute_result"
    },
    {
     "data": {
      "image/png": "[encoded data removed]",
      "text/plain": [
       "<Figure size 616.611x500 with 1 Axes>"
      ]
     },
     "metadata": {},
     "output_type": "display_data"
    }
   ],
   "source": [
    "sns.lmplot(df3, x='athlete_age', y='athlete_avg_speed', hue='athlete_gender')"
   ]
  },
  {
   "cell_type": "markdown",
   "metadata": {},
   "source": [
    "Above we can see a linear graph between the age of the athlete and the average speed of the athlete in all types of races. Of course, the average speed decreases with age for both women and men."
   ]
  },
  {
   "cell_type": "markdown",
   "metadata": {},
   "source": [
    "# Questions I want to find out from the data"
   ]
  },
  {
   "cell_type": "markdown",
   "metadata": {},
   "source": [
    "### 1. Difference in speed for the 50 km, 100 km, male to female"
   ]
  },
  {
   "cell_type": "code",
   "execution_count": 31,
   "metadata": {},
   "outputs": [
    {
     "data": {
      "text/plain": [
       "athlete_gender  race_length\n",
       "F               100km          6.611517\n",
       "                50km           8.659645\n",
       "M               100km          6.847927\n",
       "                50km           9.812052\n",
       "Name: athlete_avg_speed, dtype: float64"
      ]
     },
     "execution_count": 31,
     "metadata": {},
     "output_type": "execute_result"
    }
   ],
   "source": [
    "df_filtered.groupby(['athlete_gender', 'race_length'])['athlete_avg_speed'].mean()"
   ]
  },
  {
   "cell_type": "markdown",
   "metadata": {},
   "source": [
    "The results show that for very long distances such as 100 km, women and men have very equal times, with men having only a bit higher average speed. However, for the 50 km race, men dominate and the difference in average speed is slightly more noticeable. "
   ]
  },
  {
   "cell_type": "markdown",
   "metadata": {},
   "source": [
    "### 2. What age groups are the best in the 100 km race (10 + races)"
   ]
  },
  {
   "cell_type": "code",
   "execution_count": 32,
   "metadata": {},
   "outputs": [
    {
     "data": {
      "text/html": [
       "<div>\n",
       "<style scoped>\n",
       "    .dataframe tbody tr th:only-of-type {\n",
       "        vertical-align: middle;\n",
       "    }\n",
       "\n",
       "    .dataframe tbody tr th {\n",
       "        vertical-align: top;\n",
       "    }\n",
       "\n",
       "    .dataframe thead th {\n",
       "        text-align: right;\n",
       "    }\n",
       "</style>\n",
       "<table border=\"1\" class=\"dataframe\">\n",
       "  <thead>\n",
       "    <tr style=\"text-align: right;\">\n",
       "      <th></th>\n",
       "      <th>mean</th>\n",
       "      <th>count</th>\n",
       "    </tr>\n",
       "    <tr>\n",
       "      <th>athlete_age</th>\n",
       "      <th></th>\n",
       "      <th></th>\n",
       "    </tr>\n",
       "  </thead>\n",
       "  <tbody>\n",
       "    <tr>\n",
       "      <th>47</th>\n",
       "      <td>8.192417</td>\n",
       "      <td>12</td>\n",
       "    </tr>\n",
       "    <tr>\n",
       "      <th>45</th>\n",
       "      <td>7.905063</td>\n",
       "      <td>16</td>\n",
       "    </tr>\n",
       "    <tr>\n",
       "      <th>38</th>\n",
       "      <td>7.436533</td>\n",
       "      <td>15</td>\n",
       "    </tr>\n",
       "    <tr>\n",
       "      <th>49</th>\n",
       "      <td>7.433154</td>\n",
       "      <td>13</td>\n",
       "    </tr>\n",
       "    <tr>\n",
       "      <th>42</th>\n",
       "      <td>7.207765</td>\n",
       "      <td>17</td>\n",
       "    </tr>\n",
       "    <tr>\n",
       "      <th>41</th>\n",
       "      <td>7.176000</td>\n",
       "      <td>12</td>\n",
       "    </tr>\n",
       "    <tr>\n",
       "      <th>39</th>\n",
       "      <td>7.045385</td>\n",
       "      <td>13</td>\n",
       "    </tr>\n",
       "    <tr>\n",
       "      <th>46</th>\n",
       "      <td>6.825100</td>\n",
       "      <td>20</td>\n",
       "    </tr>\n",
       "    <tr>\n",
       "      <th>34</th>\n",
       "      <td>6.785250</td>\n",
       "      <td>12</td>\n",
       "    </tr>\n",
       "    <tr>\n",
       "      <th>43</th>\n",
       "      <td>6.544091</td>\n",
       "      <td>11</td>\n",
       "    </tr>\n",
       "    <tr>\n",
       "      <th>50</th>\n",
       "      <td>6.532000</td>\n",
       "      <td>13</td>\n",
       "    </tr>\n",
       "    <tr>\n",
       "      <th>35</th>\n",
       "      <td>6.120800</td>\n",
       "      <td>10</td>\n",
       "    </tr>\n",
       "    <tr>\n",
       "      <th>48</th>\n",
       "      <td>5.883154</td>\n",
       "      <td>13</td>\n",
       "    </tr>\n",
       "  </tbody>\n",
       "</table>\n",
       "</div>"
      ],
      "text/plain": [
       "                 mean  count\n",
       "athlete_age                 \n",
       "47           8.192417     12\n",
       "45           7.905063     16\n",
       "38           7.436533     15\n",
       "49           7.433154     13\n",
       "42           7.207765     17\n",
       "41           7.176000     12\n",
       "39           7.045385     13\n",
       "46           6.825100     20\n",
       "34           6.785250     12\n",
       "43           6.544091     11\n",
       "50           6.532000     13\n",
       "35           6.120800     10\n",
       "48           5.883154     13"
      ]
     },
     "execution_count": 32,
     "metadata": {},
     "output_type": "execute_result"
    }
   ],
   "source": [
    "df_filtered.query('race_length == \"100km\"').groupby(\n",
    "    'athlete_age')['athlete_avg_speed'].agg(\n",
    "        ['mean', 'count']).sort_values(by='mean', ascending=False).query('count>9')"
   ]
  },
  {
   "cell_type": "markdown",
   "metadata": {},
   "source": [
    "From the results we can see that the most successful competitors over the longest distances are around 40 years old. For very long distances, experience and strategy play a key role. "
   ]
  },
  {
   "cell_type": "markdown",
   "metadata": {},
   "source": [
    "### 3. Are athletes slower in summer than winter?\n",
    "\n",
    "Spring 3-5\n",
    "\n",
    "Summer 6-8\n",
    "\n",
    "Fall 9-11\n",
    "\n",
    "Winter 12-2"
   ]
  },
  {
   "cell_type": "code",
   "execution_count": 33,
   "metadata": {},
   "outputs": [],
   "source": [
    "df3['race_month'] = df3['race_day'].str.split('.').str.get(1).astype(int)"
   ]
  },
  {
   "cell_type": "code",
   "execution_count": 34,
   "metadata": {},
   "outputs": [],
   "source": [
    "df3['race_season'] = df3['race_month'].apply(\n",
    "    lambda x: 'Winter' if x > 11 else 'Fall' \n",
    "    if x > 8 else 'Summer' if x > 5 else 'Spring' if x > 2 else 'Winter')"
   ]
  },
  {
   "cell_type": "code",
   "execution_count": 35,
   "metadata": {},
   "outputs": [
    {
     "data": {
      "text/html": [
       "<div>\n",
       "<style scoped>\n",
       "    .dataframe tbody tr th:only-of-type {\n",
       "        vertical-align: middle;\n",
       "    }\n",
       "\n",
       "    .dataframe tbody tr th {\n",
       "        vertical-align: top;\n",
       "    }\n",
       "\n",
       "    .dataframe thead th {\n",
       "        text-align: right;\n",
       "    }\n",
       "</style>\n",
       "<table border=\"1\" class=\"dataframe\">\n",
       "  <thead>\n",
       "    <tr style=\"text-align: right;\">\n",
       "      <th></th>\n",
       "      <th>race_day</th>\n",
       "      <th>race</th>\n",
       "      <th>race_length</th>\n",
       "      <th>race_no_of_finishers</th>\n",
       "      <th>athlete_id</th>\n",
       "      <th>athlete_performance</th>\n",
       "      <th>athlete_avg_speed</th>\n",
       "      <th>athlete_gender</th>\n",
       "      <th>athlete_age</th>\n",
       "      <th>athlete_country</th>\n",
       "      <th>race_month</th>\n",
       "      <th>race_season</th>\n",
       "    </tr>\n",
       "  </thead>\n",
       "  <tbody>\n",
       "    <tr>\n",
       "      <th>3144592</th>\n",
       "      <td>05.03.2022</td>\n",
       "      <td>Běhu na 50 Km Pilsen (CZE)</td>\n",
       "      <td>50km</td>\n",
       "      <td>5</td>\n",
       "      <td>948743</td>\n",
       "      <td>4:09:11</td>\n",
       "      <td>12.039</td>\n",
       "      <td>F</td>\n",
       "      <td>39</td>\n",
       "      <td>CZE</td>\n",
       "      <td>3</td>\n",
       "      <td>Spring</td>\n",
       "    </tr>\n",
       "    <tr>\n",
       "      <th>3144593</th>\n",
       "      <td>05.03.2022</td>\n",
       "      <td>Běhu na 50 Km Pilsen (CZE)</td>\n",
       "      <td>50km</td>\n",
       "      <td>5</td>\n",
       "      <td>119714</td>\n",
       "      <td>4:17:11</td>\n",
       "      <td>11.665</td>\n",
       "      <td>M</td>\n",
       "      <td>38</td>\n",
       "      <td>CZE</td>\n",
       "      <td>3</td>\n",
       "      <td>Spring</td>\n",
       "    </tr>\n",
       "    <tr>\n",
       "      <th>3144594</th>\n",
       "      <td>05.03.2022</td>\n",
       "      <td>Běhu na 50 Km Pilsen (CZE)</td>\n",
       "      <td>50km</td>\n",
       "      <td>5</td>\n",
       "      <td>167471</td>\n",
       "      <td>4:19:27</td>\n",
       "      <td>11.563</td>\n",
       "      <td>M</td>\n",
       "      <td>55</td>\n",
       "      <td>CZE</td>\n",
       "      <td>3</td>\n",
       "      <td>Spring</td>\n",
       "    </tr>\n",
       "    <tr>\n",
       "      <th>3144595</th>\n",
       "      <td>05.03.2022</td>\n",
       "      <td>Běhu na 50 Km Pilsen (CZE)</td>\n",
       "      <td>50km</td>\n",
       "      <td>5</td>\n",
       "      <td>119731</td>\n",
       "      <td>4:29:10</td>\n",
       "      <td>11.146</td>\n",
       "      <td>F</td>\n",
       "      <td>44</td>\n",
       "      <td>CZE</td>\n",
       "      <td>3</td>\n",
       "      <td>Spring</td>\n",
       "    </tr>\n",
       "    <tr>\n",
       "      <th>3144596</th>\n",
       "      <td>05.03.2022</td>\n",
       "      <td>Běhu na 50 Km Pilsen (CZE)</td>\n",
       "      <td>50km</td>\n",
       "      <td>5</td>\n",
       "      <td>416487</td>\n",
       "      <td>5:51:08</td>\n",
       "      <td>8.544</td>\n",
       "      <td>M</td>\n",
       "      <td>70</td>\n",
       "      <td>CZE</td>\n",
       "      <td>3</td>\n",
       "      <td>Spring</td>\n",
       "    </tr>\n",
       "  </tbody>\n",
       "</table>\n",
       "</div>"
      ],
      "text/plain": [
       "           race_day                        race race_length  \\\n",
       "3144592  05.03.2022  Běhu na 50 Km Pilsen (CZE)        50km   \n",
       "3144593  05.03.2022  Běhu na 50 Km Pilsen (CZE)        50km   \n",
       "3144594  05.03.2022  Běhu na 50 Km Pilsen (CZE)        50km   \n",
       "3144595  05.03.2022  Běhu na 50 Km Pilsen (CZE)        50km   \n",
       "3144596  05.03.2022  Běhu na 50 Km Pilsen (CZE)        50km   \n",
       "\n",
       "         race_no_of_finishers  athlete_id athlete_performance  \\\n",
       "3144592                     5      948743             4:09:11   \n",
       "3144593                     5      119714             4:17:11   \n",
       "3144594                     5      167471             4:19:27   \n",
       "3144595                     5      119731             4:29:10   \n",
       "3144596                     5      416487             5:51:08   \n",
       "\n",
       "         athlete_avg_speed athlete_gender  athlete_age athlete_country  \\\n",
       "3144592             12.039              F           39             CZE   \n",
       "3144593             11.665              M           38             CZE   \n",
       "3144594             11.563              M           55             CZE   \n",
       "3144595             11.146              F           44             CZE   \n",
       "3144596              8.544              M           70             CZE   \n",
       "\n",
       "         race_month race_season  \n",
       "3144592           3      Spring  \n",
       "3144593           3      Spring  \n",
       "3144594           3      Spring  \n",
       "3144595           3      Spring  \n",
       "3144596           3      Spring  "
      ]
     },
     "execution_count": 35,
     "metadata": {},
     "output_type": "execute_result"
    }
   ],
   "source": [
    "df3.head()"
   ]
  },
  {
   "cell_type": "code",
   "execution_count": 38,
   "metadata": {},
   "outputs": [
    {
     "data": {
      "text/html": [
       "<div>\n",
       "<style scoped>\n",
       "    .dataframe tbody tr th:only-of-type {\n",
       "        vertical-align: middle;\n",
       "    }\n",
       "\n",
       "    .dataframe tbody tr th {\n",
       "        vertical-align: top;\n",
       "    }\n",
       "\n",
       "    .dataframe thead th {\n",
       "        text-align: right;\n",
       "    }\n",
       "</style>\n",
       "<table border=\"1\" class=\"dataframe\">\n",
       "  <thead>\n",
       "    <tr style=\"text-align: right;\">\n",
       "      <th></th>\n",
       "      <th>mean</th>\n",
       "      <th>count</th>\n",
       "    </tr>\n",
       "    <tr>\n",
       "      <th>race_season</th>\n",
       "      <th></th>\n",
       "      <th></th>\n",
       "    </tr>\n",
       "  </thead>\n",
       "  <tbody>\n",
       "    <tr>\n",
       "      <th>Summer</th>\n",
       "      <td>8.461656</td>\n",
       "      <td>886</td>\n",
       "    </tr>\n",
       "    <tr>\n",
       "      <th>Spring</th>\n",
       "      <td>7.610544</td>\n",
       "      <td>281</td>\n",
       "    </tr>\n",
       "    <tr>\n",
       "      <th>Fall</th>\n",
       "      <td>6.557080</td>\n",
       "      <td>697</td>\n",
       "    </tr>\n",
       "    <tr>\n",
       "      <th>Winter</th>\n",
       "      <td>6.553633</td>\n",
       "      <td>660</td>\n",
       "    </tr>\n",
       "  </tbody>\n",
       "</table>\n",
       "</div>"
      ],
      "text/plain": [
       "                 mean  count\n",
       "race_season                 \n",
       "Summer       8.461656    886\n",
       "Spring       7.610544    281\n",
       "Fall         6.557080    697\n",
       "Winter       6.553633    660"
      ]
     },
     "execution_count": 38,
     "metadata": {},
     "output_type": "execute_result"
    }
   ],
   "source": [
    "df3.groupby('race_season')['athlete_avg_speed'].agg(['mean', 'count']).sort_values(by='mean', ascending=False)"
   ]
  },
  {
   "cell_type": "markdown",
   "metadata": {},
   "source": [
    "In general, athletes have better times in marathons and longer races in colder temperatures. The study can be viewed via this link: https://journals.plos.org/plosone/article?id=10.1371/journal.pone.0037407#pone-0037407-g004\n",
    "\n",
    "Interestingly, in this case, the athletes had the best times at the higher temperatures, especially in the summer and spring, and the worst times in the winter. The athletes had almost the same times on average in fall. This could probably be due to the fact that the summers in the Czech Republic and Slovakia are not as hot as in some states in the USA. Races like the Desert Rats 150 in Utah, which are run in the summer in the middle of the desert, would most likely have worse times on average than an equally long race in the winter."
   ]
  },
  {
   "cell_type": "code",
   "execution_count": null,
   "metadata": {},
   "outputs": [
    {
     "data": {
      "text/html": [
       "<div>\n",
       "<style scoped>\n",
       "    .dataframe tbody tr th:only-of-type {\n",
       "        vertical-align: middle;\n",
       "    }\n",
       "\n",
       "    .dataframe tbody tr th {\n",
       "        vertical-align: top;\n",
       "    }\n",
       "\n",
       "    .dataframe thead th {\n",
       "        text-align: right;\n",
       "    }\n",
       "</style>\n",
       "<table border=\"1\" class=\"dataframe\">\n",
       "  <thead>\n",
       "    <tr style=\"text-align: right;\">\n",
       "      <th></th>\n",
       "      <th>mean</th>\n",
       "      <th>count</th>\n",
       "    </tr>\n",
       "    <tr>\n",
       "      <th>race_season</th>\n",
       "      <th></th>\n",
       "      <th></th>\n",
       "    </tr>\n",
       "  </thead>\n",
       "  <tbody>\n",
       "    <tr>\n",
       "      <th>Spring</th>\n",
       "      <td>11.897467</td>\n",
       "      <td>30</td>\n",
       "    </tr>\n",
       "    <tr>\n",
       "      <th>Fall</th>\n",
       "      <td>11.791400</td>\n",
       "      <td>10</td>\n",
       "    </tr>\n",
       "    <tr>\n",
       "      <th>Summer</th>\n",
       "      <td>9.261838</td>\n",
       "      <td>445</td>\n",
       "    </tr>\n",
       "  </tbody>\n",
       "</table>\n",
       "</div>"
      ],
      "text/plain": [
       "                  mean  count\n",
       "race_season                  \n",
       "Spring       11.897467     30\n",
       "Fall         11.791400     10\n",
       "Summer        9.261838    445"
      ]
     },
     "execution_count": 135,
     "metadata": {},
     "output_type": "execute_result"
    }
   ],
   "source": [
    "df3.query('race_length == \"50km\"').groupby('race_season')['athlete_avg_speed'].agg(['mean', 'count']).sort_values(by='mean', ascending=False)"
   ]
  },
  {
   "cell_type": "code",
   "execution_count": null,
   "metadata": {},
   "outputs": [
    {
     "data": {
      "text/html": [
       "<div>\n",
       "<style scoped>\n",
       "    .dataframe tbody tr th:only-of-type {\n",
       "        vertical-align: middle;\n",
       "    }\n",
       "\n",
       "    .dataframe tbody tr th {\n",
       "        vertical-align: top;\n",
       "    }\n",
       "\n",
       "    .dataframe thead th {\n",
       "        text-align: right;\n",
       "    }\n",
       "</style>\n",
       "<table border=\"1\" class=\"dataframe\">\n",
       "  <thead>\n",
       "    <tr style=\"text-align: right;\">\n",
       "      <th></th>\n",
       "      <th>mean</th>\n",
       "      <th>count</th>\n",
       "    </tr>\n",
       "    <tr>\n",
       "      <th>race_season</th>\n",
       "      <th></th>\n",
       "      <th></th>\n",
       "    </tr>\n",
       "  </thead>\n",
       "  <tbody>\n",
       "    <tr>\n",
       "      <th>Spring</th>\n",
       "      <td>10.710176</td>\n",
       "      <td>34</td>\n",
       "    </tr>\n",
       "    <tr>\n",
       "      <th>Winter</th>\n",
       "      <td>8.770727</td>\n",
       "      <td>22</td>\n",
       "    </tr>\n",
       "    <tr>\n",
       "      <th>Fall</th>\n",
       "      <td>6.138345</td>\n",
       "      <td>264</td>\n",
       "    </tr>\n",
       "  </tbody>\n",
       "</table>\n",
       "</div>"
      ],
      "text/plain": [
       "                  mean  count\n",
       "race_season                  \n",
       "Spring       10.710176     34\n",
       "Winter        8.770727     22\n",
       "Fall          6.138345    264"
      ]
     },
     "execution_count": 134,
     "metadata": {},
     "output_type": "execute_result"
    }
   ],
   "source": [
    "df3.query('race_length == \"100km\"').groupby('race_season')['athlete_avg_speed'].agg(['mean', 'count']).sort_values(by='mean', ascending=False)"
   ]
  },
  {
   "cell_type": "markdown",
   "metadata": {},
   "source": [
    "In the first table we can see the average speeds for the 50 km races. In the second table we can see the average speeds for 100 km races. At the same time, no 50 km races were run in the winter months, i.e. from December to February, and the vast majority were run in the summer months. The 100 km races were run over the winter months, but there were the fewest races. Most races were in the fall months, from September to November. However, for both the 50 and 80 km races, the athletes had their best times in the spring months, i.e. March to May, and there was not as noticeable a difference in average speeds. What is interesting, however, is the huge differences in average speed in the fall for the 50 km and 100 km races. It should be said, however, that there were only 10 50 km races in the fall of 2022, which may skew the results. "
   ]
  }
 ],
 "metadata": {
  "kernelspec": {
   "display_name": "Python 3 (ipykernel)",
   "language": "python",
   "name": "python3"
  },
  "language_info": {
   "codemirror_mode": {
    "name": "ipython",
    "version": 3
   },
   "file_extension": ".py",
   "mimetype": "text/x-python",
   "name": "python",
   "nbconvert_exporter": "python",
   "pygments_lexer": "ipython3",
   "version": "3.11.7"
  }
 },
 "nbformat": 4,
 "nbformat_minor": 4
}
